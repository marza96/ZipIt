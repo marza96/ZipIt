{
  "cells": [
    {
      "cell_type": "markdown",
      "metadata": {
        "colab_type": "text",
        "id": "view-in-github"
      },
      "source": [
        "<a href=\"https://colab.research.google.com/github/marza96/ZipIt/blob/master/experiments.ipynb\" target=\"_parent\"><img src=\"https://colab.research.google.com/assets/colab-badge.svg\" alt=\"Open In Colab\"/></a>"
      ]
    },
    {
      "cell_type": "code",
      "execution_count": null,
      "metadata": {
        "id": "DfHpuxg1jayr"
      },
      "outputs": [],
      "source": [
        "from models.mlp import MLP\n",
        "from graphs.mlp_graph import MLPGraph\n",
        "from model_merger import ModelMerge\n",
        "\n",
        "import torchvision.transforms as transforms\n",
        "\n",
        "import torch\n",
        "import torchvision\n",
        "\n",
        "if __name__ == \"__main__\":\n",
        "\n",
        "    model1 = MLP(h=128, layers=5).eval()\n",
        "    graph1 = MLPGraph(model1, 5).graphify()  \n",
        "\n",
        "    model2 = MLP(h=128, layers=5).eval()\n",
        "    graph2 = MLPGraph(model2, 5).graphify()  \n",
        "\n",
        "    model3 = MLP(h=128, layers=5).eval()\n",
        "\n",
        "    transform = transforms.Compose(\n",
        "        [\n",
        "            transforms.ToTensor(),\n",
        "        ]\n",
        "    )\n",
        "    dataset = torchvision.datasets.FashionMNIST(\n",
        "        root='./data', \n",
        "        train=True,\n",
        "        download=True, \n",
        "        transform=transform\n",
        "    )\n",
        "    dataloader = torch.utils.data.DataLoader(\n",
        "        dataset, \n",
        "        batch_size=128,\n",
        "        shuffle=True, \n",
        "        num_workers=8\n",
        "    )\n",
        "\n",
        "    from matching_functions import match_tensors_identity, match_tensors_zipit\n",
        "    merge = ModelMerge(graph1, graph2)\n",
        "    merge.transform(model3, dataloader, transform_fn=match_tensors_zipit)"
      ]
    }
  ],
  "metadata": {
    "accelerator": "GPU",
    "colab": {
      "authorship_tag": "ABX9TyP+psmzpHwAMKH4D8ABtdRn",
      "gpuType": "V100",
      "include_colab_link": true,
      "machine_shape": "hm",
      "provenance": [],
      "toc_visible": true
    },
    "kernelspec": {
      "display_name": "Python 3",
      "name": "python3"
    },
    "language_info": {
      "name": "python"
    }
  },
  "nbformat": 4,
  "nbformat_minor": 0
}
